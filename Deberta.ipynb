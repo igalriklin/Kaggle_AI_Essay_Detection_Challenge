{
 "cells": [
  {
   "cell_type": "code",
   "execution_count": 1,
   "id": "0556bdc5",
   "metadata": {
    "_cell_guid": "fce142ae-e3b9-4441-b27b-40419b327ef6",
    "_uuid": "a8d04eb5-07d9-41f5-a8dc-05e74a765a69",
    "collapsed": false,
    "execution": {
     "iopub.execute_input": "2023-12-25T17:19:36.706174Z",
     "iopub.status.busy": "2023-12-25T17:19:36.705027Z",
     "iopub.status.idle": "2023-12-25T17:20:05.426575Z",
     "shell.execute_reply": "2023-12-25T17:20:05.425612Z"
    },
    "jupyter": {
     "outputs_hidden": false
    },
    "papermill": {
     "duration": 28.734837,
     "end_time": "2023-12-25T17:20:05.428787",
     "exception": false,
     "start_time": "2023-12-25T17:19:36.693950",
     "status": "completed"
    },
    "tags": []
   },
   "outputs": [
    {
     "name": "stderr",
     "output_type": "stream",
     "text": [
      "/opt/conda/lib/python3.10/site-packages/scipy/__init__.py:146: UserWarning: A NumPy version >=1.16.5 and <1.23.0 is required for this version of SciPy (detected version 1.24.3\n",
      "  warnings.warn(f\"A NumPy version >={np_minversion} and <{np_maxversion}\"\n"
     ]
    },
    {
     "name": "stdout",
     "output_type": "stream",
     "text": [
      "Torch Version: 2.0.0\n",
      "cuda\n"
     ]
    }
   ],
   "source": [
    "import torch, transformers, sklearn, os, re, random, time, sys\n",
    "import numpy as np\n",
    "import pandas as pd\n",
    "from pathlib import Path\n",
    "import matplotlib.pyplot as plt\n",
    "from sklearn.model_selection import StratifiedKFold\n",
    "from sklearn.model_selection import train_test_split\n",
    "from sklearn.metrics import roc_auc_score\n",
    "from transformers import AutoModelForSequenceClassification, AutoTokenizer, TrainingArguments, Trainer\n",
    "from datasets import Dataset\n",
    "\n",
    "\n",
    "from tqdm import tqdm\n",
    "import optuna\n",
    "\n",
    "pd.options.display.max_rows = 999\n",
    "pd.options.display.max_colwidth = 99\n",
    "\n",
    "print(f'Torch Version: {torch.__version__}')\n",
    "device = torch.device(\"cuda\" if torch.cuda.is_available() else \"cpu\")\n",
    "print(device)"
   ]
  },
  {
   "cell_type": "code",
   "execution_count": 2,
   "id": "76513fde",
   "metadata": {
    "_cell_guid": "ad53c477-78d3-4dbd-800c-beac2a8402bd",
    "_uuid": "333cae7d-bb8e-430a-8bdb-05b0674e9301",
    "collapsed": false,
    "execution": {
     "iopub.execute_input": "2023-12-25T17:20:05.442987Z",
     "iopub.status.busy": "2023-12-25T17:20:05.442412Z",
     "iopub.status.idle": "2023-12-25T17:20:05.458006Z",
     "shell.execute_reply": "2023-12-25T17:20:05.457155Z"
    },
    "jupyter": {
     "outputs_hidden": false
    },
    "papermill": {
     "duration": 0.024687,
     "end_time": "2023-12-25T17:20:05.459925",
     "exception": false,
     "start_time": "2023-12-25T17:20:05.435238",
     "status": "completed"
    },
    "tags": []
   },
   "outputs": [
    {
     "data": {
      "text/plain": [
       "<torch._C.Generator at 0x7a7a889c69f0>"
      ]
     },
     "execution_count": 2,
     "metadata": {},
     "output_type": "execute_result"
    }
   ],
   "source": [
    "seed=1\n",
    "random.seed(seed)\n",
    "np.random.seed(seed)\n",
    "torch.manual_seed(seed)"
   ]
  },
  {
   "cell_type": "code",
   "execution_count": 3,
   "id": "de60fa9f",
   "metadata": {
    "_cell_guid": "ac5fcc9c-cf91-4a19-b4eb-7a4f7286b178",
    "_uuid": "d3654481-6caa-4766-ad40-9ce3bbf94152",
    "collapsed": false,
    "execution": {
     "iopub.execute_input": "2023-12-25T17:20:05.473729Z",
     "iopub.status.busy": "2023-12-25T17:20:05.473072Z",
     "iopub.status.idle": "2023-12-25T17:20:07.749010Z",
     "shell.execute_reply": "2023-12-25T17:20:07.748078Z"
    },
    "jupyter": {
     "outputs_hidden": false
    },
    "papermill": {
     "duration": 2.285165,
     "end_time": "2023-12-25T17:20:07.751305",
     "exception": false,
     "start_time": "2023-12-25T17:20:05.466140",
     "status": "completed"
    },
    "tags": []
   },
   "outputs": [],
   "source": [
    "df = pd.read_csv(\"/kaggle/input/daigt-v2-train-dataset/train_v2_drcat_02.csv\", sep=',')"
   ]
  },
  {
   "cell_type": "code",
   "execution_count": 4,
   "id": "1fe593d2",
   "metadata": {
    "_cell_guid": "f1c19fd8-aa7b-4c5f-ad9f-38a6ec9c867c",
    "_uuid": "a5be5529-1187-4546-8a88-bdfa1582ae87",
    "collapsed": false,
    "execution": {
     "iopub.execute_input": "2023-12-25T17:20:07.765096Z",
     "iopub.status.busy": "2023-12-25T17:20:07.764790Z",
     "iopub.status.idle": "2023-12-25T17:20:07.787517Z",
     "shell.execute_reply": "2023-12-25T17:20:07.786687Z"
    },
    "jupyter": {
     "outputs_hidden": false
    },
    "papermill": {
     "duration": 0.031636,
     "end_time": "2023-12-25T17:20:07.789298",
     "exception": false,
     "start_time": "2023-12-25T17:20:07.757662",
     "status": "completed"
    },
    "tags": []
   },
   "outputs": [
    {
     "data": {
      "text/plain": [
       "array(['Phones and driving', 'Car-free cities', 'Summer projects',\n",
       "       '\"A Cowboy Who Rode the Waves\"',\n",
       "       'Mandatory extracurricular activities', 'Exploring Venus',\n",
       "       'Facial action coding system', 'The Face on Mars',\n",
       "       'Community service', 'Grades for extracurricular activities',\n",
       "       'Driverless cars', 'Does the electoral college work?',\n",
       "       'Cell phones at school', 'Distance learning',\n",
       "       'Seeking multiple opinions'], dtype=object)"
      ]
     },
     "execution_count": 4,
     "metadata": {},
     "output_type": "execute_result"
    }
   ],
   "source": [
    "df.prompt_name.unique()"
   ]
  },
  {
   "cell_type": "code",
   "execution_count": 5,
   "id": "b7ce0812",
   "metadata": {
    "_cell_guid": "8fad4b5c-d4cb-4b88-9de8-9eadafb3da9e",
    "_uuid": "085b9ed6-02a3-4b7a-baf4-70dc39ac4d85",
    "collapsed": false,
    "execution": {
     "iopub.execute_input": "2023-12-25T17:20:07.802866Z",
     "iopub.status.busy": "2023-12-25T17:20:07.802604Z",
     "iopub.status.idle": "2023-12-25T17:20:07.813155Z",
     "shell.execute_reply": "2023-12-25T17:20:07.812455Z"
    },
    "jupyter": {
     "outputs_hidden": false
    },
    "papermill": {
     "duration": 0.01953,
     "end_time": "2023-12-25T17:20:07.814971",
     "exception": false,
     "start_time": "2023-12-25T17:20:07.795441",
     "status": "completed"
    },
    "tags": []
   },
   "outputs": [],
   "source": [
    "df_filtered =df[df.RDizzl3_seven]"
   ]
  },
  {
   "cell_type": "code",
   "execution_count": 6,
   "id": "4f2f58de",
   "metadata": {
    "_cell_guid": "ef7fa21b-8260-4aec-9da9-caddb9b10e7c",
    "_uuid": "21409399-6892-48ad-a560-2e30449be57a",
    "collapsed": false,
    "execution": {
     "iopub.execute_input": "2023-12-25T17:20:07.828331Z",
     "iopub.status.busy": "2023-12-25T17:20:07.828041Z",
     "iopub.status.idle": "2023-12-25T17:20:07.834890Z",
     "shell.execute_reply": "2023-12-25T17:20:07.834019Z"
    },
    "jupyter": {
     "outputs_hidden": false
    },
    "papermill": {
     "duration": 0.015565,
     "end_time": "2023-12-25T17:20:07.836695",
     "exception": false,
     "start_time": "2023-12-25T17:20:07.821130",
     "status": "completed"
    },
    "tags": []
   },
   "outputs": [
    {
     "data": {
      "text/plain": [
       "array(['Car-free cities', '\"A Cowboy Who Rode the Waves\"',\n",
       "       'Exploring Venus', 'Facial action coding system',\n",
       "       'The Face on Mars', 'Driverless cars',\n",
       "       'Does the electoral college work?'], dtype=object)"
      ]
     },
     "execution_count": 6,
     "metadata": {},
     "output_type": "execute_result"
    }
   ],
   "source": [
    "df_filtered.prompt_name.unique()"
   ]
  },
  {
   "cell_type": "code",
   "execution_count": 7,
   "id": "96e45aaa",
   "metadata": {
    "_cell_guid": "d4534a72-8988-49fb-bc45-7f34d22fc351",
    "_uuid": "55ef1931-6fcd-44f3-bd9a-f17f324d3c75",
    "collapsed": false,
    "execution": {
     "iopub.execute_input": "2023-12-25T17:20:07.850185Z",
     "iopub.status.busy": "2023-12-25T17:20:07.849917Z",
     "iopub.status.idle": "2023-12-25T17:20:07.856965Z",
     "shell.execute_reply": "2023-12-25T17:20:07.856159Z"
    },
    "jupyter": {
     "outputs_hidden": false
    },
    "papermill": {
     "duration": 0.015898,
     "end_time": "2023-12-25T17:20:07.858884",
     "exception": false,
     "start_time": "2023-12-25T17:20:07.842986",
     "status": "completed"
    },
    "tags": []
   },
   "outputs": [
    {
     "data": {
      "text/plain": [
       "'Hey, ya\\'ll! 😃 So, I\\'m sure we\\'ve all noticed how much technology has taken over our lives, right? Like, I mean, we\\'re basically glued to our phones and computers all day long. And while it\\'s super convenient to be able to communicate with people from anywhere in the world, I think it\\'s also having some pretty negative effects on our relationships and overall health. 🤔\\n\\nFirst of all, let\\'s talk about how technology is making us all bad communicators. Like, I know I\\'m guilty of it too, but I\\'ll be chatting with my friends online and I\\'ll be like, \"lol\" and \"omg\" and stuff, but I\\'m not actually paying attention to what they\\'re saying. It\\'s like, I\\'m not even listening! And then when we do finally meet up in person, I\\'m like, \"Uh, what were we talking about again?\" 🙈 It\\'s like, our faces are glued to our screens and we\\'re not even present in the moment. 🙄\\n\\nAnd it\\'s not just our communication skills that are suffering. Technology is also giving us some serious health problems. Like, did you know that staring at screens all day can actually damage your eyesight? 🤯 And then there\\'s the whole obesity epidemic thing going on. I mean, I know I\\'m guilty of binge-watching Netflix for hours on end, but it\\'s just so easy to get sucked into these screens and forget to move around. 🏋️\\u200d♀️ It\\'s like, our bodies are meant to be active, but technology is making us all lazy. 😴\\n\\nBut I think the worst part is how technology is making us all inactive. Like, I know I\\'m supposed to be doing my homework right now, but I\\'m like, \"Oh, let me just check my Instagram real quick.\" 📚 And then suddenly, an hour has passed and I\\'ve accomplished nothing. 🙈 It\\'s like, we\\'re so addicted to these screens that we can\\'t even focus on anything else.'"
      ]
     },
     "execution_count": 7,
     "metadata": {},
     "output_type": "execute_result"
    }
   ],
   "source": [
    "df_filtered[df_filtered.label==1].iloc[1000].text"
   ]
  },
  {
   "cell_type": "code",
   "execution_count": 8,
   "id": "8b7d1287",
   "metadata": {
    "_cell_guid": "060e81ca-e2c4-45c7-8230-5e1d4ac7388b",
    "_uuid": "b8eae2ef-a7e5-44d6-9cd1-5d6385a20ad1",
    "collapsed": false,
    "execution": {
     "iopub.execute_input": "2023-12-25T17:20:07.872838Z",
     "iopub.status.busy": "2023-12-25T17:20:07.872597Z",
     "iopub.status.idle": "2023-12-25T17:20:20.029101Z",
     "shell.execute_reply": "2023-12-25T17:20:20.028126Z"
    },
    "jupyter": {
     "outputs_hidden": false
    },
    "papermill": {
     "duration": 12.165962,
     "end_time": "2023-12-25T17:20:20.031389",
     "exception": false,
     "start_time": "2023-12-25T17:20:07.865427",
     "status": "completed"
    },
    "tags": []
   },
   "outputs": [
    {
     "name": "stderr",
     "output_type": "stream",
     "text": [
      "/opt/conda/lib/python3.10/site-packages/transformers/convert_slow_tokenizer.py:473: UserWarning: The sentencepiece tokenizer that you are converting to a fast tokenizer uses the byte fallback option which is not implemented in the fast tokenizers. In practice this means that the fast version of the tokenizer can produce unknown tokens whereas the sentencepiece version would have converted these unknown tokens into a sequence of byte tokens matching the original piece of text.\n",
      "  warnings.warn(\n",
      "Some weights of DebertaV2ForSequenceClassification were not initialized from the model checkpoint at ../input/huggingfacedebertav3variants/deberta-v3-small and are newly initialized: ['pooler.dense.bias', 'pooler.dense.weight', 'classifier.weight', 'classifier.bias']\n",
      "You should probably TRAIN this model on a down-stream task to be able to use it for predictions and inference.\n"
     ]
    }
   ],
   "source": [
    "from transformers import AutoModelForSequenceClassification,AutoTokenizer\n",
    "model_name = '../input/huggingfacedebertav3variants/deberta-v3-small'\n",
    "tokenizer = AutoTokenizer.from_pretrained(model_name)\n",
    "model = AutoModelForSequenceClassification.from_pretrained(model_name, num_labels=2).to(device)"
   ]
  },
  {
   "cell_type": "code",
   "execution_count": 9,
   "id": "ef5c814e",
   "metadata": {
    "_cell_guid": "d290cb82-5494-4dd7-8688-2ddbd2280107",
    "_uuid": "a23a1aec-369e-4d16-9e27-e94ee607898a",
    "collapsed": false,
    "execution": {
     "iopub.execute_input": "2023-12-25T17:20:20.046658Z",
     "iopub.status.busy": "2023-12-25T17:20:20.046372Z",
     "iopub.status.idle": "2023-12-25T17:20:20.052341Z",
     "shell.execute_reply": "2023-12-25T17:20:20.051485Z"
    },
    "jupyter": {
     "outputs_hidden": false
    },
    "papermill": {
     "duration": 0.015548,
     "end_time": "2023-12-25T17:20:20.054226",
     "exception": false,
     "start_time": "2023-12-25T17:20:20.038678",
     "status": "completed"
    },
    "tags": []
   },
   "outputs": [],
   "source": [
    "def preprocess_function(examples):\n",
    "    # Your existing code\n",
    "    outputs = tokenizer(examples['text'], max_length=256, padding=True, truncation=True, return_tensors='pt')\n",
    "\n",
    "    # Convert the Torch tensors to lists or numpy arrays\n",
    "    outputs = {key: value.tolist() if isinstance(value, torch.Tensor) else np.array(value) if isinstance(value, np.ndarray) else value.item() if torch.is_tensor(value) else value for key, value in outputs.items()}\n",
    "\n",
    "    return outputs"
   ]
  },
  {
   "cell_type": "code",
   "execution_count": 10,
   "id": "70783757",
   "metadata": {
    "_cell_guid": "48e93cc3-2a16-40a6-ba54-94615ad29f14",
    "_uuid": "6e6c84b8-8d95-4d90-9057-328721147001",
    "collapsed": false,
    "execution": {
     "iopub.execute_input": "2023-12-25T17:20:20.068659Z",
     "iopub.status.busy": "2023-12-25T17:20:20.068413Z",
     "iopub.status.idle": "2023-12-25T17:20:41.463488Z",
     "shell.execute_reply": "2023-12-25T17:20:41.462572Z"
    },
    "jupyter": {
     "outputs_hidden": false
    },
    "papermill": {
     "duration": 21.404529,
     "end_time": "2023-12-25T17:20:41.465421",
     "exception": false,
     "start_time": "2023-12-25T17:20:20.060892",
     "status": "completed"
    },
    "tags": []
   },
   "outputs": [
    {
     "data": {
      "application/vnd.jupyter.widget-view+json": {
       "model_id": "eb4f0bb7617c4f02b24e888501e3e1d7",
       "version_major": 2,
       "version_minor": 0
      },
      "text/plain": [
       "  0%|          | 0/5 [00:00<?, ?ba/s]"
      ]
     },
     "metadata": {},
     "output_type": "display_data"
    },
    {
     "data": {
      "application/vnd.jupyter.widget-view+json": {
       "model_id": "89b86a2c2222490c9f02af865cde648d",
       "version_major": 2,
       "version_minor": 0
      },
      "text/plain": [
       "  0%|          | 0/17 [00:00<?, ?ba/s]"
      ]
     },
     "metadata": {},
     "output_type": "display_data"
    },
    {
     "data": {
      "text/plain": [
       "DatasetDict({\n",
       "    train: Dataset({\n",
       "        features: ['label', 'input_ids', 'token_type_ids', 'attention_mask'],\n",
       "        num_rows: 16360\n",
       "    })\n",
       "    test: Dataset({\n",
       "        features: ['label', 'input_ids', 'token_type_ids', 'attention_mask'],\n",
       "        num_rows: 4090\n",
       "    })\n",
       "})"
      ]
     },
     "execution_count": 10,
     "metadata": {},
     "output_type": "execute_result"
    }
   ],
   "source": [
    "ds = Dataset.from_pandas(df_filtered[['text', 'label']].reset_index(drop=True)).train_test_split(test_size=0.2)\n",
    "ds['test'] = ds['test'].map(preprocess_function, num_proc=1, batched=True,remove_columns=['text'])\n",
    "ds['train'] = ds['train'].map(preprocess_function, num_proc=1, batched=True,remove_columns=['text'])\n",
    "ds"
   ]
  },
  {
   "cell_type": "code",
   "execution_count": 11,
   "id": "2d6ebf14",
   "metadata": {
    "_cell_guid": "b77a198b-196c-4c41-9aae-b2a5b5318895",
    "_uuid": "c3dffe83-a0c0-4dbe-b1cf-5828bc693572",
    "collapsed": false,
    "execution": {
     "iopub.execute_input": "2023-12-25T17:20:41.481439Z",
     "iopub.status.busy": "2023-12-25T17:20:41.481108Z",
     "iopub.status.idle": "2023-12-25T17:20:41.486077Z",
     "shell.execute_reply": "2023-12-25T17:20:41.485203Z"
    },
    "jupyter": {
     "outputs_hidden": false
    },
    "papermill": {
     "duration": 0.01511,
     "end_time": "2023-12-25T17:20:41.487994",
     "exception": false,
     "start_time": "2023-12-25T17:20:41.472884",
     "status": "completed"
    },
    "tags": []
   },
   "outputs": [],
   "source": [
    "def compute_metrics(eval_pred):\n",
    "    logits, labels = eval_pred\n",
    "    probs = np.exp(logits) / np.sum(np.exp(logits), axis=-1, keepdims=True)\n",
    "    auc = roc_auc_score(labels, probs[:,1], multi_class='ovr')\n",
    "    return {\"roc_auc\": auc}"
   ]
  },
  {
   "cell_type": "code",
   "execution_count": 12,
   "id": "06289b45",
   "metadata": {
    "_cell_guid": "2e83fea2-3a90-4203-b95a-3f0a588560cd",
    "_uuid": "e3285341-a804-4b46-a770-2ea23170403e",
    "collapsed": false,
    "execution": {
     "iopub.execute_input": "2023-12-25T17:20:41.503638Z",
     "iopub.status.busy": "2023-12-25T17:20:41.503372Z",
     "iopub.status.idle": "2023-12-25T17:20:41.515719Z",
     "shell.execute_reply": "2023-12-25T17:20:41.514931Z"
    },
    "jupyter": {
     "outputs_hidden": false
    },
    "papermill": {
     "duration": 0.022321,
     "end_time": "2023-12-25T17:20:41.517612",
     "exception": false,
     "start_time": "2023-12-25T17:20:41.495291",
     "status": "completed"
    },
    "tags": []
   },
   "outputs": [],
   "source": [
    "args = TrainingArguments(\n",
    "    \"deberta-finetuned\",\n",
    "    evaluation_strategy = \"steps\",\n",
    "    save_strategy = \"steps\",\n",
    "    save_steps = 10000,\n",
    "    eval_steps = 100,\n",
    "    learning_rate=5e-5,\n",
    "    per_device_train_batch_size=8,\n",
    "    per_device_eval_batch_size=32,\n",
    "    num_train_epochs=1,\n",
    "    weight_decay=0.01,\n",
    "    load_best_model_at_end=True,\n",
    "    metric_for_best_model='roc_auc',\n",
    "    report_to='none',\n",
    ")\n",
    "\n",
    "trainer = Trainer(\n",
    "    model,\n",
    "    args,\n",
    "    train_dataset=ds['train'],\n",
    "    eval_dataset=ds['test'],\n",
    "    tokenizer=tokenizer,\n",
    "    compute_metrics=compute_metrics\n",
    ")"
   ]
  },
  {
   "cell_type": "code",
   "execution_count": 13,
   "id": "2671c507",
   "metadata": {
    "execution": {
     "iopub.execute_input": "2023-12-25T17:20:41.532818Z",
     "iopub.status.busy": "2023-12-25T17:20:41.532572Z",
     "iopub.status.idle": "2023-12-25T17:32:28.166819Z",
     "shell.execute_reply": "2023-12-25T17:32:28.165873Z"
    },
    "papermill": {
     "duration": 706.644149,
     "end_time": "2023-12-25T17:32:28.168863",
     "exception": false,
     "start_time": "2023-12-25T17:20:41.524714",
     "status": "completed"
    },
    "tags": []
   },
   "outputs": [
    {
     "name": "stderr",
     "output_type": "stream",
     "text": [
      "You're using a DebertaV2TokenizerFast tokenizer. Please note that with a fast tokenizer, using the `__call__` method is faster than using a method to encode the text followed by a call to the `pad` method to get a padded encoding.\n",
      "/opt/conda/lib/python3.10/site-packages/torch/nn/parallel/_functions.py:68: UserWarning: Was asked to gather along dimension 0, but all input tensors were scalars; will instead unsqueeze and return a vector.\n",
      "  warnings.warn('Was asked to gather along dimension 0, but all '\n"
     ]
    },
    {
     "data": {
      "text/html": [
       "\n",
       "    <div>\n",
       "      \n",
       "      <progress value='1023' max='1023' style='width:300px; height:20px; vertical-align: middle;'></progress>\n",
       "      [1023/1023 11:38, Epoch 1/1]\n",
       "    </div>\n",
       "    <table border=\"1\" class=\"dataframe\">\n",
       "  <thead>\n",
       " <tr style=\"text-align: left;\">\n",
       "      <th>Step</th>\n",
       "      <th>Training Loss</th>\n",
       "      <th>Validation Loss</th>\n",
       "      <th>Roc Auc</th>\n",
       "    </tr>\n",
       "  </thead>\n",
       "  <tbody>\n",
       "    <tr>\n",
       "      <td>100</td>\n",
       "      <td>No log</td>\n",
       "      <td>0.056801</td>\n",
       "      <td>0.999356</td>\n",
       "    </tr>\n",
       "    <tr>\n",
       "      <td>200</td>\n",
       "      <td>No log</td>\n",
       "      <td>0.025369</td>\n",
       "      <td>0.999522</td>\n",
       "    </tr>\n",
       "    <tr>\n",
       "      <td>300</td>\n",
       "      <td>No log</td>\n",
       "      <td>0.235515</td>\n",
       "      <td>0.999558</td>\n",
       "    </tr>\n",
       "    <tr>\n",
       "      <td>400</td>\n",
       "      <td>No log</td>\n",
       "      <td>0.020408</td>\n",
       "      <td>0.999831</td>\n",
       "    </tr>\n",
       "    <tr>\n",
       "      <td>500</td>\n",
       "      <td>0.080700</td>\n",
       "      <td>0.035318</td>\n",
       "      <td>0.999786</td>\n",
       "    </tr>\n",
       "    <tr>\n",
       "      <td>600</td>\n",
       "      <td>0.080700</td>\n",
       "      <td>0.025049</td>\n",
       "      <td>0.999836</td>\n",
       "    </tr>\n",
       "    <tr>\n",
       "      <td>700</td>\n",
       "      <td>0.080700</td>\n",
       "      <td>0.090261</td>\n",
       "      <td>0.999874</td>\n",
       "    </tr>\n",
       "    <tr>\n",
       "      <td>800</td>\n",
       "      <td>0.080700</td>\n",
       "      <td>0.079340</td>\n",
       "      <td>0.999861</td>\n",
       "    </tr>\n",
       "    <tr>\n",
       "      <td>900</td>\n",
       "      <td>0.080700</td>\n",
       "      <td>0.017936</td>\n",
       "      <td>0.999929</td>\n",
       "    </tr>\n",
       "    <tr>\n",
       "      <td>1000</td>\n",
       "      <td>0.018100</td>\n",
       "      <td>0.034770</td>\n",
       "      <td>0.999902</td>\n",
       "    </tr>\n",
       "  </tbody>\n",
       "</table><p>"
      ],
      "text/plain": [
       "<IPython.core.display.HTML object>"
      ]
     },
     "metadata": {},
     "output_type": "display_data"
    },
    {
     "name": "stderr",
     "output_type": "stream",
     "text": [
      "/opt/conda/lib/python3.10/site-packages/torch/nn/parallel/_functions.py:68: UserWarning: Was asked to gather along dimension 0, but all input tensors were scalars; will instead unsqueeze and return a vector.\n",
      "  warnings.warn('Was asked to gather along dimension 0, but all '\n",
      "/opt/conda/lib/python3.10/site-packages/torch/nn/parallel/_functions.py:68: UserWarning: Was asked to gather along dimension 0, but all input tensors were scalars; will instead unsqueeze and return a vector.\n",
      "  warnings.warn('Was asked to gather along dimension 0, but all '\n",
      "/opt/conda/lib/python3.10/site-packages/torch/nn/parallel/_functions.py:68: UserWarning: Was asked to gather along dimension 0, but all input tensors were scalars; will instead unsqueeze and return a vector.\n",
      "  warnings.warn('Was asked to gather along dimension 0, but all '\n",
      "/opt/conda/lib/python3.10/site-packages/torch/nn/parallel/_functions.py:68: UserWarning: Was asked to gather along dimension 0, but all input tensors were scalars; will instead unsqueeze and return a vector.\n",
      "  warnings.warn('Was asked to gather along dimension 0, but all '\n",
      "/opt/conda/lib/python3.10/site-packages/torch/nn/parallel/_functions.py:68: UserWarning: Was asked to gather along dimension 0, but all input tensors were scalars; will instead unsqueeze and return a vector.\n",
      "  warnings.warn('Was asked to gather along dimension 0, but all '\n",
      "/opt/conda/lib/python3.10/site-packages/torch/nn/parallel/_functions.py:68: UserWarning: Was asked to gather along dimension 0, but all input tensors were scalars; will instead unsqueeze and return a vector.\n",
      "  warnings.warn('Was asked to gather along dimension 0, but all '\n",
      "/opt/conda/lib/python3.10/site-packages/torch/nn/parallel/_functions.py:68: UserWarning: Was asked to gather along dimension 0, but all input tensors were scalars; will instead unsqueeze and return a vector.\n",
      "  warnings.warn('Was asked to gather along dimension 0, but all '\n",
      "/opt/conda/lib/python3.10/site-packages/torch/nn/parallel/_functions.py:68: UserWarning: Was asked to gather along dimension 0, but all input tensors were scalars; will instead unsqueeze and return a vector.\n",
      "  warnings.warn('Was asked to gather along dimension 0, but all '\n",
      "/opt/conda/lib/python3.10/site-packages/torch/nn/parallel/_functions.py:68: UserWarning: Was asked to gather along dimension 0, but all input tensors were scalars; will instead unsqueeze and return a vector.\n",
      "  warnings.warn('Was asked to gather along dimension 0, but all '\n",
      "/opt/conda/lib/python3.10/site-packages/torch/nn/parallel/_functions.py:68: UserWarning: Was asked to gather along dimension 0, but all input tensors were scalars; will instead unsqueeze and return a vector.\n",
      "  warnings.warn('Was asked to gather along dimension 0, but all '\n"
     ]
    },
    {
     "data": {
      "text/plain": [
       "TrainOutput(global_step=1023, training_loss=0.048323523510841036, metrics={'train_runtime': 706.3601, 'train_samples_per_second': 23.161, 'train_steps_per_second': 1.448, 'total_flos': 1083621919088640.0, 'train_loss': 0.048323523510841036, 'epoch': 1.0})"
      ]
     },
     "execution_count": 13,
     "metadata": {},
     "output_type": "execute_result"
    }
   ],
   "source": [
    "trainer.train()"
   ]
  },
  {
   "cell_type": "code",
   "execution_count": 14,
   "id": "b0ea4da5",
   "metadata": {
    "execution": {
     "iopub.execute_input": "2023-12-25T17:32:28.188799Z",
     "iopub.status.busy": "2023-12-25T17:32:28.187844Z",
     "iopub.status.idle": "2023-12-25T17:32:28.237879Z",
     "shell.execute_reply": "2023-12-25T17:32:28.237050Z"
    },
    "papermill": {
     "duration": 0.062583,
     "end_time": "2023-12-25T17:32:28.240450",
     "exception": false,
     "start_time": "2023-12-25T17:32:28.177867",
     "status": "completed"
    },
    "tags": []
   },
   "outputs": [
    {
     "data": {
      "application/vnd.jupyter.widget-view+json": {
       "model_id": "f2a716ff570e49939fd457ba99f191ad",
       "version_major": 2,
       "version_minor": 0
      },
      "text/plain": [
       "  0%|          | 0/1 [00:00<?, ?ba/s]"
      ]
     },
     "metadata": {},
     "output_type": "display_data"
    }
   ],
   "source": [
    "test = pd.read_csv('/kaggle/input/llm-detect-ai-generated-text/test_essays.csv')\n",
    "test_ds = Dataset.from_pandas(test)\n",
    "test_ds_enc = test_ds.map(preprocess_function, batched=True)"
   ]
  },
  {
   "cell_type": "code",
   "execution_count": 15,
   "id": "95bc50b3",
   "metadata": {
    "execution": {
     "iopub.execute_input": "2023-12-25T17:32:28.258627Z",
     "iopub.status.busy": "2023-12-25T17:32:28.258370Z",
     "iopub.status.idle": "2023-12-25T17:32:28.361993Z",
     "shell.execute_reply": "2023-12-25T17:32:28.361160Z"
    },
    "papermill": {
     "duration": 0.114881,
     "end_time": "2023-12-25T17:32:28.363901",
     "exception": false,
     "start_time": "2023-12-25T17:32:28.249020",
     "status": "completed"
    },
    "tags": []
   },
   "outputs": [
    {
     "data": {
      "text/html": [],
      "text/plain": [
       "<IPython.core.display.HTML object>"
      ]
     },
     "metadata": {},
     "output_type": "display_data"
    },
    {
     "data": {
      "text/plain": [
       "PredictionOutput(predictions=array([[-0.16550678,  0.08815041],\n",
       "       [-0.1835741 ,  0.10907069],\n",
       "       [-0.14762944,  0.06472559]], dtype=float32), label_ids=None, metrics={'test_runtime': 0.095, 'test_samples_per_second': 31.588, 'test_steps_per_second': 10.529})"
      ]
     },
     "execution_count": 15,
     "metadata": {},
     "output_type": "execute_result"
    }
   ],
   "source": [
    "test_preds = trainer.predict(test_ds_enc)\n",
    "test_preds"
   ]
  },
  {
   "cell_type": "code",
   "execution_count": 16,
   "id": "0edc34a7",
   "metadata": {
    "execution": {
     "iopub.execute_input": "2023-12-25T17:32:28.383422Z",
     "iopub.status.busy": "2023-12-25T17:32:28.383166Z",
     "iopub.status.idle": "2023-12-25T17:32:28.388861Z",
     "shell.execute_reply": "2023-12-25T17:32:28.387999Z"
    },
    "papermill": {
     "duration": 0.017294,
     "end_time": "2023-12-25T17:32:28.390722",
     "exception": false,
     "start_time": "2023-12-25T17:32:28.373428",
     "status": "completed"
    },
    "tags": []
   },
   "outputs": [
    {
     "data": {
      "text/plain": [
       "PredictionOutput(predictions=array([[-0.16550678,  0.08815041],\n",
       "       [-0.1835741 ,  0.10907069],\n",
       "       [-0.14762944,  0.06472559]], dtype=float32), label_ids=None, metrics={'test_runtime': 0.095, 'test_samples_per_second': 31.588, 'test_steps_per_second': 10.529})"
      ]
     },
     "execution_count": 16,
     "metadata": {},
     "output_type": "execute_result"
    }
   ],
   "source": [
    "test_preds"
   ]
  },
  {
   "cell_type": "code",
   "execution_count": 17,
   "id": "a6467394",
   "metadata": {
    "execution": {
     "iopub.execute_input": "2023-12-25T17:32:28.409565Z",
     "iopub.status.busy": "2023-12-25T17:32:28.409308Z",
     "iopub.status.idle": "2023-12-25T17:32:28.424820Z",
     "shell.execute_reply": "2023-12-25T17:32:28.424111Z"
    },
    "papermill": {
     "duration": 0.026908,
     "end_time": "2023-12-25T17:32:28.426590",
     "exception": false,
     "start_time": "2023-12-25T17:32:28.399682",
     "status": "completed"
    },
    "tags": []
   },
   "outputs": [],
   "source": [
    "logits = test_preds.predictions\n",
    "probs = np.exp(logits) / np.sum(np.exp(logits), axis=-1, keepdims=True)\n",
    "sub = pd.DataFrame()\n",
    "sub['id'] = test['id']\n",
    "sub['generated'] = probs[:,1]\n",
    "predictions = test_preds.predictions\n",
    "tensor_predictions = torch.from_numpy(predictions)\n",
    "sub['generated'] = tensor_predictions[:,1]\n",
    "sub.head()\n",
    "sub.to_csv('submission.csv', index=False)"
   ]
  },
  {
   "cell_type": "code",
   "execution_count": null,
   "id": "a422782a",
   "metadata": {
    "papermill": {
     "duration": 0.008879,
     "end_time": "2023-12-25T17:32:28.488246",
     "exception": false,
     "start_time": "2023-12-25T17:32:28.479367",
     "status": "completed"
    },
    "tags": []
   },
   "outputs": [],
   "source": []
  }
 ],
 "metadata": {
  "kaggle": {
   "accelerator": "nvidiaTeslaT4",
   "dataSources": [
    {
     "databundleVersionId": 6888007,
     "sourceId": 61542,
     "sourceType": "competition"
    },
    {
     "datasetId": 4005256,
     "sourceId": 6977472,
     "sourceType": "datasetVersion"
    },
    {
     "datasetId": 2663421,
     "sourceId": 4620664,
     "sourceType": "datasetVersion"
    }
   ],
   "dockerImageVersionId": 30626,
   "isGpuEnabled": true,
   "isInternetEnabled": false,
   "language": "python",
   "sourceType": "notebook"
  },
  "kernelspec": {
   "display_name": "Python 3",
   "language": "python",
   "name": "python3"
  },
  "language_info": {
   "codemirror_mode": {
    "name": "ipython",
    "version": 3
   },
   "file_extension": ".py",
   "mimetype": "text/x-python",
   "name": "python",
   "nbconvert_exporter": "python",
   "pygments_lexer": "ipython3",
   "version": "3.10.12"
  },
  "papermill": {
   "default_parameters": {},
   "duration": 779.593043,
   "end_time": "2023-12-25T17:32:31.887944",
   "environment_variables": {},
   "exception": null,
   "input_path": "__notebook__.ipynb",
   "output_path": "__notebook__.ipynb",
   "parameters": {},
   "start_time": "2023-12-25T17:19:32.294901",
   "version": "2.4.0"
  },
  "widgets": {
   "application/vnd.jupyter.widget-state+json": {
    "state": {
     "010f8bc72eff4cc3a553b665d65b5b14": {
      "model_module": "@jupyter-widgets/base",
      "model_module_version": "1.2.0",
      "model_name": "LayoutModel",
      "state": {
       "_model_module": "@jupyter-widgets/base",
       "_model_module_version": "1.2.0",
       "_model_name": "LayoutModel",
       "_view_count": null,
       "_view_module": "@jupyter-widgets/base",
       "_view_module_version": "1.2.0",
       "_view_name": "LayoutView",
       "align_content": null,
       "align_items": null,
       "align_self": null,
       "border": null,
       "bottom": null,
       "display": null,
       "flex": null,
       "flex_flow": null,
       "grid_area": null,
       "grid_auto_columns": null,
       "grid_auto_flow": null,
       "grid_auto_rows": null,
       "grid_column": null,
       "grid_gap": null,
       "grid_row": null,
       "grid_template_areas": null,
       "grid_template_columns": null,
       "grid_template_rows": null,
       "height": null,
       "justify_content": null,
       "justify_items": null,
       "left": null,
       "margin": null,
       "max_height": null,
       "max_width": null,
       "min_height": null,
       "min_width": null,
       "object_fit": null,
       "object_position": null,
       "order": null,
       "overflow": null,
       "overflow_x": null,
       "overflow_y": null,
       "padding": null,
       "right": null,
       "top": null,
       "visibility": null,
       "width": null
      }
     },
     "0158d18fc825439f9d70f56e31a197ea": {
      "model_module": "@jupyter-widgets/controls",
      "model_module_version": "1.5.0",
      "model_name": "DescriptionStyleModel",
      "state": {
       "_model_module": "@jupyter-widgets/controls",
       "_model_module_version": "1.5.0",
       "_model_name": "DescriptionStyleModel",
       "_view_count": null,
       "_view_module": "@jupyter-widgets/base",
       "_view_module_version": "1.2.0",
       "_view_name": "StyleView",
       "description_width": ""
      }
     },
     "04006bfc26c245ee91c4f8210634f539": {
      "model_module": "@jupyter-widgets/controls",
      "model_module_version": "1.5.0",
      "model_name": "HTMLModel",
      "state": {
       "_dom_classes": [],
       "_model_module": "@jupyter-widgets/controls",
       "_model_module_version": "1.5.0",
       "_model_name": "HTMLModel",
       "_view_count": null,
       "_view_module": "@jupyter-widgets/controls",
       "_view_module_version": "1.5.0",
       "_view_name": "HTMLView",
       "description": "",
       "description_tooltip": null,
       "layout": "IPY_MODEL_caba263b2f6046fca21a106e0e29037c",
       "placeholder": "​",
       "style": "IPY_MODEL_b0276726ea8748fca52bc9ed3282208a",
       "value": " 1/1 [00:00&lt;00:00, 60.01ba/s]"
      }
     },
     "0e4442dbc794443c90fdf78c3cb3d649": {
      "model_module": "@jupyter-widgets/base",
      "model_module_version": "1.2.0",
      "model_name": "LayoutModel",
      "state": {
       "_model_module": "@jupyter-widgets/base",
       "_model_module_version": "1.2.0",
       "_model_name": "LayoutModel",
       "_view_count": null,
       "_view_module": "@jupyter-widgets/base",
       "_view_module_version": "1.2.0",
       "_view_name": "LayoutView",
       "align_content": null,
       "align_items": null,
       "align_self": null,
       "border": null,
       "bottom": null,
       "display": null,
       "flex": null,
       "flex_flow": null,
       "grid_area": null,
       "grid_auto_columns": null,
       "grid_auto_flow": null,
       "grid_auto_rows": null,
       "grid_column": null,
       "grid_gap": null,
       "grid_row": null,
       "grid_template_areas": null,
       "grid_template_columns": null,
       "grid_template_rows": null,
       "height": null,
       "justify_content": null,
       "justify_items": null,
       "left": null,
       "margin": null,
       "max_height": null,
       "max_width": null,
       "min_height": null,
       "min_width": null,
       "object_fit": null,
       "object_position": null,
       "order": null,
       "overflow": null,
       "overflow_x": null,
       "overflow_y": null,
       "padding": null,
       "right": null,
       "top": null,
       "visibility": null,
       "width": null
      }
     },
     "20ffee3459544e2fa1e104ea81816d9e": {
      "model_module": "@jupyter-widgets/controls",
      "model_module_version": "1.5.0",
      "model_name": "HTMLModel",
      "state": {
       "_dom_classes": [],
       "_model_module": "@jupyter-widgets/controls",
       "_model_module_version": "1.5.0",
       "_model_name": "HTMLModel",
       "_view_count": null,
       "_view_module": "@jupyter-widgets/controls",
       "_view_module_version": "1.5.0",
       "_view_name": "HTMLView",
       "description": "",
       "description_tooltip": null,
       "layout": "IPY_MODEL_d9d47fc91fa0461aabf66986dd187812",
       "placeholder": "​",
       "style": "IPY_MODEL_432ab794498243ea8cc9d15e351cf084",
       "value": "100%"
      }
     },
     "2a49f7ec0212474189444163fa4d68d9": {
      "model_module": "@jupyter-widgets/controls",
      "model_module_version": "1.5.0",
      "model_name": "DescriptionStyleModel",
      "state": {
       "_model_module": "@jupyter-widgets/controls",
       "_model_module_version": "1.5.0",
       "_model_name": "DescriptionStyleModel",
       "_view_count": null,
       "_view_module": "@jupyter-widgets/base",
       "_view_module_version": "1.2.0",
       "_view_name": "StyleView",
       "description_width": ""
      }
     },
     "4239de7a31224bc48c8ee250f00b2815": {
      "model_module": "@jupyter-widgets/controls",
      "model_module_version": "1.5.0",
      "model_name": "DescriptionStyleModel",
      "state": {
       "_model_module": "@jupyter-widgets/controls",
       "_model_module_version": "1.5.0",
       "_model_name": "DescriptionStyleModel",
       "_view_count": null,
       "_view_module": "@jupyter-widgets/base",
       "_view_module_version": "1.2.0",
       "_view_name": "StyleView",
       "description_width": ""
      }
     },
     "432ab794498243ea8cc9d15e351cf084": {
      "model_module": "@jupyter-widgets/controls",
      "model_module_version": "1.5.0",
      "model_name": "DescriptionStyleModel",
      "state": {
       "_model_module": "@jupyter-widgets/controls",
       "_model_module_version": "1.5.0",
       "_model_name": "DescriptionStyleModel",
       "_view_count": null,
       "_view_module": "@jupyter-widgets/base",
       "_view_module_version": "1.2.0",
       "_view_name": "StyleView",
       "description_width": ""
      }
     },
     "45f144641939460abd993e3a9b8d804c": {
      "model_module": "@jupyter-widgets/base",
      "model_module_version": "1.2.0",
      "model_name": "LayoutModel",
      "state": {
       "_model_module": "@jupyter-widgets/base",
       "_model_module_version": "1.2.0",
       "_model_name": "LayoutModel",
       "_view_count": null,
       "_view_module": "@jupyter-widgets/base",
       "_view_module_version": "1.2.0",
       "_view_name": "LayoutView",
       "align_content": null,
       "align_items": null,
       "align_self": null,
       "border": null,
       "bottom": null,
       "display": null,
       "flex": null,
       "flex_flow": null,
       "grid_area": null,
       "grid_auto_columns": null,
       "grid_auto_flow": null,
       "grid_auto_rows": null,
       "grid_column": null,
       "grid_gap": null,
       "grid_row": null,
       "grid_template_areas": null,
       "grid_template_columns": null,
       "grid_template_rows": null,
       "height": null,
       "justify_content": null,
       "justify_items": null,
       "left": null,
       "margin": null,
       "max_height": null,
       "max_width": null,
       "min_height": null,
       "min_width": null,
       "object_fit": null,
       "object_position": null,
       "order": null,
       "overflow": null,
       "overflow_x": null,
       "overflow_y": null,
       "padding": null,
       "right": null,
       "top": null,
       "visibility": null,
       "width": null
      }
     },
     "4689fae273034daeaa60f9e1bed688bb": {
      "model_module": "@jupyter-widgets/controls",
      "model_module_version": "1.5.0",
      "model_name": "DescriptionStyleModel",
      "state": {
       "_model_module": "@jupyter-widgets/controls",
       "_model_module_version": "1.5.0",
       "_model_name": "DescriptionStyleModel",
       "_view_count": null,
       "_view_module": "@jupyter-widgets/base",
       "_view_module_version": "1.2.0",
       "_view_name": "StyleView",
       "description_width": ""
      }
     },
     "5d8e40cce6a345eda4e1e69ec5406441": {
      "model_module": "@jupyter-widgets/controls",
      "model_module_version": "1.5.0",
      "model_name": "HTMLModel",
      "state": {
       "_dom_classes": [],
       "_model_module": "@jupyter-widgets/controls",
       "_model_module_version": "1.5.0",
       "_model_name": "HTMLModel",
       "_view_count": null,
       "_view_module": "@jupyter-widgets/controls",
       "_view_module_version": "1.5.0",
       "_view_name": "HTMLView",
       "description": "",
       "description_tooltip": null,
       "layout": "IPY_MODEL_777fec32dd3f41e08a589a6cda026f40",
       "placeholder": "​",
       "style": "IPY_MODEL_4239de7a31224bc48c8ee250f00b2815",
       "value": " 17/17 [00:16&lt;00:00,  1.22ba/s]"
      }
     },
     "74258421372f47358f78ebc420aa769b": {
      "model_module": "@jupyter-widgets/controls",
      "model_module_version": "1.5.0",
      "model_name": "FloatProgressModel",
      "state": {
       "_dom_classes": [],
       "_model_module": "@jupyter-widgets/controls",
       "_model_module_version": "1.5.0",
       "_model_name": "FloatProgressModel",
       "_view_count": null,
       "_view_module": "@jupyter-widgets/controls",
       "_view_module_version": "1.5.0",
       "_view_name": "ProgressView",
       "bar_style": "success",
       "description": "",
       "description_tooltip": null,
       "layout": "IPY_MODEL_a771ec69b9fc4d1499cdb4fbe49e2cfb",
       "max": 1.0,
       "min": 0.0,
       "orientation": "horizontal",
       "style": "IPY_MODEL_aad7d6c7312c41959a2db5f089f7a914",
       "value": 1.0
      }
     },
     "74e8d42a98754fd5b731fdbf3501ea3e": {
      "model_module": "@jupyter-widgets/base",
      "model_module_version": "1.2.0",
      "model_name": "LayoutModel",
      "state": {
       "_model_module": "@jupyter-widgets/base",
       "_model_module_version": "1.2.0",
       "_model_name": "LayoutModel",
       "_view_count": null,
       "_view_module": "@jupyter-widgets/base",
       "_view_module_version": "1.2.0",
       "_view_name": "LayoutView",
       "align_content": null,
       "align_items": null,
       "align_self": null,
       "border": null,
       "bottom": null,
       "display": null,
       "flex": null,
       "flex_flow": null,
       "grid_area": null,
       "grid_auto_columns": null,
       "grid_auto_flow": null,
       "grid_auto_rows": null,
       "grid_column": null,
       "grid_gap": null,
       "grid_row": null,
       "grid_template_areas": null,
       "grid_template_columns": null,
       "grid_template_rows": null,
       "height": null,
       "justify_content": null,
       "justify_items": null,
       "left": null,
       "margin": null,
       "max_height": null,
       "max_width": null,
       "min_height": null,
       "min_width": null,
       "object_fit": null,
       "object_position": null,
       "order": null,
       "overflow": null,
       "overflow_x": null,
       "overflow_y": null,
       "padding": null,
       "right": null,
       "top": null,
       "visibility": null,
       "width": null
      }
     },
     "777fec32dd3f41e08a589a6cda026f40": {
      "model_module": "@jupyter-widgets/base",
      "model_module_version": "1.2.0",
      "model_name": "LayoutModel",
      "state": {
       "_model_module": "@jupyter-widgets/base",
       "_model_module_version": "1.2.0",
       "_model_name": "LayoutModel",
       "_view_count": null,
       "_view_module": "@jupyter-widgets/base",
       "_view_module_version": "1.2.0",
       "_view_name": "LayoutView",
       "align_content": null,
       "align_items": null,
       "align_self": null,
       "border": null,
       "bottom": null,
       "display": null,
       "flex": null,
       "flex_flow": null,
       "grid_area": null,
       "grid_auto_columns": null,
       "grid_auto_flow": null,
       "grid_auto_rows": null,
       "grid_column": null,
       "grid_gap": null,
       "grid_row": null,
       "grid_template_areas": null,
       "grid_template_columns": null,
       "grid_template_rows": null,
       "height": null,
       "justify_content": null,
       "justify_items": null,
       "left": null,
       "margin": null,
       "max_height": null,
       "max_width": null,
       "min_height": null,
       "min_width": null,
       "object_fit": null,
       "object_position": null,
       "order": null,
       "overflow": null,
       "overflow_x": null,
       "overflow_y": null,
       "padding": null,
       "right": null,
       "top": null,
       "visibility": null,
       "width": null
      }
     },
     "7b0c808e999f4010bf9242eb394890af": {
      "model_module": "@jupyter-widgets/base",
      "model_module_version": "1.2.0",
      "model_name": "LayoutModel",
      "state": {
       "_model_module": "@jupyter-widgets/base",
       "_model_module_version": "1.2.0",
       "_model_name": "LayoutModel",
       "_view_count": null,
       "_view_module": "@jupyter-widgets/base",
       "_view_module_version": "1.2.0",
       "_view_name": "LayoutView",
       "align_content": null,
       "align_items": null,
       "align_self": null,
       "border": null,
       "bottom": null,
       "display": null,
       "flex": null,
       "flex_flow": null,
       "grid_area": null,
       "grid_auto_columns": null,
       "grid_auto_flow": null,
       "grid_auto_rows": null,
       "grid_column": null,
       "grid_gap": null,
       "grid_row": null,
       "grid_template_areas": null,
       "grid_template_columns": null,
       "grid_template_rows": null,
       "height": null,
       "justify_content": null,
       "justify_items": null,
       "left": null,
       "margin": null,
       "max_height": null,
       "max_width": null,
       "min_height": null,
       "min_width": null,
       "object_fit": null,
       "object_position": null,
       "order": null,
       "overflow": null,
       "overflow_x": null,
       "overflow_y": null,
       "padding": null,
       "right": null,
       "top": null,
       "visibility": null,
       "width": null
      }
     },
     "89b86a2c2222490c9f02af865cde648d": {
      "model_module": "@jupyter-widgets/controls",
      "model_module_version": "1.5.0",
      "model_name": "HBoxModel",
      "state": {
       "_dom_classes": [],
       "_model_module": "@jupyter-widgets/controls",
       "_model_module_version": "1.5.0",
       "_model_name": "HBoxModel",
       "_view_count": null,
       "_view_module": "@jupyter-widgets/controls",
       "_view_module_version": "1.5.0",
       "_view_name": "HBoxView",
       "box_style": "",
       "children": [
        "IPY_MODEL_bda9ff7103c84574b6ad97d85844180d",
        "IPY_MODEL_dfbdbfee84a64c53987dd26f7b890d40",
        "IPY_MODEL_5d8e40cce6a345eda4e1e69ec5406441"
       ],
       "layout": "IPY_MODEL_7b0c808e999f4010bf9242eb394890af"
      }
     },
     "97406ee350514bdbb8c243c4a6aafe8a": {
      "model_module": "@jupyter-widgets/controls",
      "model_module_version": "1.5.0",
      "model_name": "FloatProgressModel",
      "state": {
       "_dom_classes": [],
       "_model_module": "@jupyter-widgets/controls",
       "_model_module_version": "1.5.0",
       "_model_name": "FloatProgressModel",
       "_view_count": null,
       "_view_module": "@jupyter-widgets/controls",
       "_view_module_version": "1.5.0",
       "_view_name": "ProgressView",
       "bar_style": "success",
       "description": "",
       "description_tooltip": null,
       "layout": "IPY_MODEL_010f8bc72eff4cc3a553b665d65b5b14",
       "max": 5.0,
       "min": 0.0,
       "orientation": "horizontal",
       "style": "IPY_MODEL_e33ea322ebe34b30abb34fb60605c1d5",
       "value": 5.0
      }
     },
     "a771ec69b9fc4d1499cdb4fbe49e2cfb": {
      "model_module": "@jupyter-widgets/base",
      "model_module_version": "1.2.0",
      "model_name": "LayoutModel",
      "state": {
       "_model_module": "@jupyter-widgets/base",
       "_model_module_version": "1.2.0",
       "_model_name": "LayoutModel",
       "_view_count": null,
       "_view_module": "@jupyter-widgets/base",
       "_view_module_version": "1.2.0",
       "_view_name": "LayoutView",
       "align_content": null,
       "align_items": null,
       "align_self": null,
       "border": null,
       "bottom": null,
       "display": null,
       "flex": null,
       "flex_flow": null,
       "grid_area": null,
       "grid_auto_columns": null,
       "grid_auto_flow": null,
       "grid_auto_rows": null,
       "grid_column": null,
       "grid_gap": null,
       "grid_row": null,
       "grid_template_areas": null,
       "grid_template_columns": null,
       "grid_template_rows": null,
       "height": null,
       "justify_content": null,
       "justify_items": null,
       "left": null,
       "margin": null,
       "max_height": null,
       "max_width": null,
       "min_height": null,
       "min_width": null,
       "object_fit": null,
       "object_position": null,
       "order": null,
       "overflow": null,
       "overflow_x": null,
       "overflow_y": null,
       "padding": null,
       "right": null,
       "top": null,
       "visibility": null,
       "width": null
      }
     },
     "aad7d6c7312c41959a2db5f089f7a914": {
      "model_module": "@jupyter-widgets/controls",
      "model_module_version": "1.5.0",
      "model_name": "ProgressStyleModel",
      "state": {
       "_model_module": "@jupyter-widgets/controls",
       "_model_module_version": "1.5.0",
       "_model_name": "ProgressStyleModel",
       "_view_count": null,
       "_view_module": "@jupyter-widgets/base",
       "_view_module_version": "1.2.0",
       "_view_name": "StyleView",
       "bar_color": null,
       "description_width": ""
      }
     },
     "b0276726ea8748fca52bc9ed3282208a": {
      "model_module": "@jupyter-widgets/controls",
      "model_module_version": "1.5.0",
      "model_name": "DescriptionStyleModel",
      "state": {
       "_model_module": "@jupyter-widgets/controls",
       "_model_module_version": "1.5.0",
       "_model_name": "DescriptionStyleModel",
       "_view_count": null,
       "_view_module": "@jupyter-widgets/base",
       "_view_module_version": "1.2.0",
       "_view_name": "StyleView",
       "description_width": ""
      }
     },
     "b238532b55c3422a85a61aadc4abfd35": {
      "model_module": "@jupyter-widgets/controls",
      "model_module_version": "1.5.0",
      "model_name": "ProgressStyleModel",
      "state": {
       "_model_module": "@jupyter-widgets/controls",
       "_model_module_version": "1.5.0",
       "_model_name": "ProgressStyleModel",
       "_view_count": null,
       "_view_module": "@jupyter-widgets/base",
       "_view_module_version": "1.2.0",
       "_view_name": "StyleView",
       "bar_color": null,
       "description_width": ""
      }
     },
     "b33a27ec788a463c855edee2607677bc": {
      "model_module": "@jupyter-widgets/base",
      "model_module_version": "1.2.0",
      "model_name": "LayoutModel",
      "state": {
       "_model_module": "@jupyter-widgets/base",
       "_model_module_version": "1.2.0",
       "_model_name": "LayoutModel",
       "_view_count": null,
       "_view_module": "@jupyter-widgets/base",
       "_view_module_version": "1.2.0",
       "_view_name": "LayoutView",
       "align_content": null,
       "align_items": null,
       "align_self": null,
       "border": null,
       "bottom": null,
       "display": null,
       "flex": null,
       "flex_flow": null,
       "grid_area": null,
       "grid_auto_columns": null,
       "grid_auto_flow": null,
       "grid_auto_rows": null,
       "grid_column": null,
       "grid_gap": null,
       "grid_row": null,
       "grid_template_areas": null,
       "grid_template_columns": null,
       "grid_template_rows": null,
       "height": null,
       "justify_content": null,
       "justify_items": null,
       "left": null,
       "margin": null,
       "max_height": null,
       "max_width": null,
       "min_height": null,
       "min_width": null,
       "object_fit": null,
       "object_position": null,
       "order": null,
       "overflow": null,
       "overflow_x": null,
       "overflow_y": null,
       "padding": null,
       "right": null,
       "top": null,
       "visibility": null,
       "width": null
      }
     },
     "bda9ff7103c84574b6ad97d85844180d": {
      "model_module": "@jupyter-widgets/controls",
      "model_module_version": "1.5.0",
      "model_name": "HTMLModel",
      "state": {
       "_dom_classes": [],
       "_model_module": "@jupyter-widgets/controls",
       "_model_module_version": "1.5.0",
       "_model_name": "HTMLModel",
       "_view_count": null,
       "_view_module": "@jupyter-widgets/controls",
       "_view_module_version": "1.5.0",
       "_view_name": "HTMLView",
       "description": "",
       "description_tooltip": null,
       "layout": "IPY_MODEL_45f144641939460abd993e3a9b8d804c",
       "placeholder": "​",
       "style": "IPY_MODEL_0158d18fc825439f9d70f56e31a197ea",
       "value": "100%"
      }
     },
     "caba263b2f6046fca21a106e0e29037c": {
      "model_module": "@jupyter-widgets/base",
      "model_module_version": "1.2.0",
      "model_name": "LayoutModel",
      "state": {
       "_model_module": "@jupyter-widgets/base",
       "_model_module_version": "1.2.0",
       "_model_name": "LayoutModel",
       "_view_count": null,
       "_view_module": "@jupyter-widgets/base",
       "_view_module_version": "1.2.0",
       "_view_name": "LayoutView",
       "align_content": null,
       "align_items": null,
       "align_self": null,
       "border": null,
       "bottom": null,
       "display": null,
       "flex": null,
       "flex_flow": null,
       "grid_area": null,
       "grid_auto_columns": null,
       "grid_auto_flow": null,
       "grid_auto_rows": null,
       "grid_column": null,
       "grid_gap": null,
       "grid_row": null,
       "grid_template_areas": null,
       "grid_template_columns": null,
       "grid_template_rows": null,
       "height": null,
       "justify_content": null,
       "justify_items": null,
       "left": null,
       "margin": null,
       "max_height": null,
       "max_width": null,
       "min_height": null,
       "min_width": null,
       "object_fit": null,
       "object_position": null,
       "order": null,
       "overflow": null,
       "overflow_x": null,
       "overflow_y": null,
       "padding": null,
       "right": null,
       "top": null,
       "visibility": null,
       "width": null
      }
     },
     "cd65c0d0090c499b87abc3301b078c32": {
      "model_module": "@jupyter-widgets/controls",
      "model_module_version": "1.5.0",
      "model_name": "HTMLModel",
      "state": {
       "_dom_classes": [],
       "_model_module": "@jupyter-widgets/controls",
       "_model_module_version": "1.5.0",
       "_model_name": "HTMLModel",
       "_view_count": null,
       "_view_module": "@jupyter-widgets/controls",
       "_view_module_version": "1.5.0",
       "_view_name": "HTMLView",
       "description": "",
       "description_tooltip": null,
       "layout": "IPY_MODEL_74e8d42a98754fd5b731fdbf3501ea3e",
       "placeholder": "​",
       "style": "IPY_MODEL_4689fae273034daeaa60f9e1bed688bb",
       "value": "100%"
      }
     },
     "d2284447b61945ada4298a5749228794": {
      "model_module": "@jupyter-widgets/base",
      "model_module_version": "1.2.0",
      "model_name": "LayoutModel",
      "state": {
       "_model_module": "@jupyter-widgets/base",
       "_model_module_version": "1.2.0",
       "_model_name": "LayoutModel",
       "_view_count": null,
       "_view_module": "@jupyter-widgets/base",
       "_view_module_version": "1.2.0",
       "_view_name": "LayoutView",
       "align_content": null,
       "align_items": null,
       "align_self": null,
       "border": null,
       "bottom": null,
       "display": null,
       "flex": null,
       "flex_flow": null,
       "grid_area": null,
       "grid_auto_columns": null,
       "grid_auto_flow": null,
       "grid_auto_rows": null,
       "grid_column": null,
       "grid_gap": null,
       "grid_row": null,
       "grid_template_areas": null,
       "grid_template_columns": null,
       "grid_template_rows": null,
       "height": null,
       "justify_content": null,
       "justify_items": null,
       "left": null,
       "margin": null,
       "max_height": null,
       "max_width": null,
       "min_height": null,
       "min_width": null,
       "object_fit": null,
       "object_position": null,
       "order": null,
       "overflow": null,
       "overflow_x": null,
       "overflow_y": null,
       "padding": null,
       "right": null,
       "top": null,
       "visibility": null,
       "width": null
      }
     },
     "d9d47fc91fa0461aabf66986dd187812": {
      "model_module": "@jupyter-widgets/base",
      "model_module_version": "1.2.0",
      "model_name": "LayoutModel",
      "state": {
       "_model_module": "@jupyter-widgets/base",
       "_model_module_version": "1.2.0",
       "_model_name": "LayoutModel",
       "_view_count": null,
       "_view_module": "@jupyter-widgets/base",
       "_view_module_version": "1.2.0",
       "_view_name": "LayoutView",
       "align_content": null,
       "align_items": null,
       "align_self": null,
       "border": null,
       "bottom": null,
       "display": null,
       "flex": null,
       "flex_flow": null,
       "grid_area": null,
       "grid_auto_columns": null,
       "grid_auto_flow": null,
       "grid_auto_rows": null,
       "grid_column": null,
       "grid_gap": null,
       "grid_row": null,
       "grid_template_areas": null,
       "grid_template_columns": null,
       "grid_template_rows": null,
       "height": null,
       "justify_content": null,
       "justify_items": null,
       "left": null,
       "margin": null,
       "max_height": null,
       "max_width": null,
       "min_height": null,
       "min_width": null,
       "object_fit": null,
       "object_position": null,
       "order": null,
       "overflow": null,
       "overflow_x": null,
       "overflow_y": null,
       "padding": null,
       "right": null,
       "top": null,
       "visibility": null,
       "width": null
      }
     },
     "da957aecfdc74f76a1ef0736f3665c1a": {
      "model_module": "@jupyter-widgets/base",
      "model_module_version": "1.2.0",
      "model_name": "LayoutModel",
      "state": {
       "_model_module": "@jupyter-widgets/base",
       "_model_module_version": "1.2.0",
       "_model_name": "LayoutModel",
       "_view_count": null,
       "_view_module": "@jupyter-widgets/base",
       "_view_module_version": "1.2.0",
       "_view_name": "LayoutView",
       "align_content": null,
       "align_items": null,
       "align_self": null,
       "border": null,
       "bottom": null,
       "display": null,
       "flex": null,
       "flex_flow": null,
       "grid_area": null,
       "grid_auto_columns": null,
       "grid_auto_flow": null,
       "grid_auto_rows": null,
       "grid_column": null,
       "grid_gap": null,
       "grid_row": null,
       "grid_template_areas": null,
       "grid_template_columns": null,
       "grid_template_rows": null,
       "height": null,
       "justify_content": null,
       "justify_items": null,
       "left": null,
       "margin": null,
       "max_height": null,
       "max_width": null,
       "min_height": null,
       "min_width": null,
       "object_fit": null,
       "object_position": null,
       "order": null,
       "overflow": null,
       "overflow_x": null,
       "overflow_y": null,
       "padding": null,
       "right": null,
       "top": null,
       "visibility": null,
       "width": null
      }
     },
     "ddf57b3629324cd0af0d9274ea674bff": {
      "model_module": "@jupyter-widgets/controls",
      "model_module_version": "1.5.0",
      "model_name": "HTMLModel",
      "state": {
       "_dom_classes": [],
       "_model_module": "@jupyter-widgets/controls",
       "_model_module_version": "1.5.0",
       "_model_name": "HTMLModel",
       "_view_count": null,
       "_view_module": "@jupyter-widgets/controls",
       "_view_module_version": "1.5.0",
       "_view_name": "HTMLView",
       "description": "",
       "description_tooltip": null,
       "layout": "IPY_MODEL_d2284447b61945ada4298a5749228794",
       "placeholder": "​",
       "style": "IPY_MODEL_2a49f7ec0212474189444163fa4d68d9",
       "value": " 5/5 [00:04&lt;00:00,  1.03s/ba]"
      }
     },
     "dfbdbfee84a64c53987dd26f7b890d40": {
      "model_module": "@jupyter-widgets/controls",
      "model_module_version": "1.5.0",
      "model_name": "FloatProgressModel",
      "state": {
       "_dom_classes": [],
       "_model_module": "@jupyter-widgets/controls",
       "_model_module_version": "1.5.0",
       "_model_name": "FloatProgressModel",
       "_view_count": null,
       "_view_module": "@jupyter-widgets/controls",
       "_view_module_version": "1.5.0",
       "_view_name": "ProgressView",
       "bar_style": "success",
       "description": "",
       "description_tooltip": null,
       "layout": "IPY_MODEL_da957aecfdc74f76a1ef0736f3665c1a",
       "max": 17.0,
       "min": 0.0,
       "orientation": "horizontal",
       "style": "IPY_MODEL_b238532b55c3422a85a61aadc4abfd35",
       "value": 17.0
      }
     },
     "e33ea322ebe34b30abb34fb60605c1d5": {
      "model_module": "@jupyter-widgets/controls",
      "model_module_version": "1.5.0",
      "model_name": "ProgressStyleModel",
      "state": {
       "_model_module": "@jupyter-widgets/controls",
       "_model_module_version": "1.5.0",
       "_model_name": "ProgressStyleModel",
       "_view_count": null,
       "_view_module": "@jupyter-widgets/base",
       "_view_module_version": "1.2.0",
       "_view_name": "StyleView",
       "bar_color": null,
       "description_width": ""
      }
     },
     "eb4f0bb7617c4f02b24e888501e3e1d7": {
      "model_module": "@jupyter-widgets/controls",
      "model_module_version": "1.5.0",
      "model_name": "HBoxModel",
      "state": {
       "_dom_classes": [],
       "_model_module": "@jupyter-widgets/controls",
       "_model_module_version": "1.5.0",
       "_model_name": "HBoxModel",
       "_view_count": null,
       "_view_module": "@jupyter-widgets/controls",
       "_view_module_version": "1.5.0",
       "_view_name": "HBoxView",
       "box_style": "",
       "children": [
        "IPY_MODEL_20ffee3459544e2fa1e104ea81816d9e",
        "IPY_MODEL_97406ee350514bdbb8c243c4a6aafe8a",
        "IPY_MODEL_ddf57b3629324cd0af0d9274ea674bff"
       ],
       "layout": "IPY_MODEL_0e4442dbc794443c90fdf78c3cb3d649"
      }
     },
     "f2a716ff570e49939fd457ba99f191ad": {
      "model_module": "@jupyter-widgets/controls",
      "model_module_version": "1.5.0",
      "model_name": "HBoxModel",
      "state": {
       "_dom_classes": [],
       "_model_module": "@jupyter-widgets/controls",
       "_model_module_version": "1.5.0",
       "_model_name": "HBoxModel",
       "_view_count": null,
       "_view_module": "@jupyter-widgets/controls",
       "_view_module_version": "1.5.0",
       "_view_name": "HBoxView",
       "box_style": "",
       "children": [
        "IPY_MODEL_cd65c0d0090c499b87abc3301b078c32",
        "IPY_MODEL_74258421372f47358f78ebc420aa769b",
        "IPY_MODEL_04006bfc26c245ee91c4f8210634f539"
       ],
       "layout": "IPY_MODEL_b33a27ec788a463c855edee2607677bc"
      }
     }
    },
    "version_major": 2,
    "version_minor": 0
   }
  }
 },
 "nbformat": 4,
 "nbformat_minor": 5
}
